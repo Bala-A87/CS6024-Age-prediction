{
 "cells": [
  {
   "cell_type": "code",
   "execution_count": 1,
   "metadata": {},
   "outputs": [],
   "source": [
    "from scripts.get_data import get_processed_data\n",
    "from scripts.models import VotingClassifier"
   ]
  },
  {
   "cell_type": "code",
   "execution_count": 2,
   "metadata": {},
   "outputs": [],
   "source": [
    "# logistic regression\n",
    "from sklearn.linear_model import LogisticRegression \n",
    "# elastic net \n",
    "from sklearn.linear_model import ElasticNet\n",
    "# svm classifier\n",
    "from sklearn.svm import SVC\n",
    "# lda \n",
    "from sklearn.discriminant_analysis import LinearDiscriminantAnalysis as LDA"
   ]
  },
  {
   "cell_type": "code",
   "execution_count": 3,
   "metadata": {},
   "outputs": [],
   "source": [
    "from sklearn.feature_selection import mutual_info_regression, mutual_info_classif\n",
    "\n",
    "data, labels = get_processed_data(corr_thresh=0.9, minmax_scale=True, var_thresh=0.01, k_to_select=1000)"
   ]
  },
  {
   "cell_type": "code",
   "execution_count": 4,
   "metadata": {},
   "outputs": [],
   "source": [
    "from timeit import default_timer as timer   "
   ]
  },
  {
   "attachments": {},
   "cell_type": "markdown",
   "metadata": {},
   "source": [
    "## Ensemble model\n",
    "\n",
    "This uses an implementation of the ensemble model as described in the paper. This is so that we can use this as a baseline to make comparisons."
   ]
  },
  {
   "cell_type": "code",
   "execution_count": 5,
   "metadata": {},
   "outputs": [],
   "source": [
    "model = VotingClassifier(20, SVC(kernel='linear'))\n",
    "model.train(data.values, labels)\n",
    "predictions = model.predict(data.values)"
   ]
  },
  {
   "cell_type": "code",
   "execution_count": 6,
   "metadata": {},
   "outputs": [
    {
     "data": {
      "text/plain": [
       "(0.0, 1.0)"
      ]
     },
     "execution_count": 6,
     "metadata": {},
     "output_type": "execute_result"
    }
   ],
   "source": [
    "from sklearn.metrics import mean_absolute_error, accuracy_score\n",
    "\n",
    "mean_absolute_error(labels, predictions), accuracy_score(labels, predictions)"
   ]
  },
  {
   "attachments": {},
   "cell_type": "markdown",
   "metadata": {},
   "source": [
    "We have 100% accuracy on the training data when the `N` different models are all `SVC()`. "
   ]
  },
  {
   "attachments": {},
   "cell_type": "markdown",
   "metadata": {},
   "source": [
    "## Leave One Out scoring"
   ]
  },
  {
   "cell_type": "code",
   "execution_count": 12,
   "metadata": {},
   "outputs": [
    {
     "name": "stdout",
     "output_type": "stream",
     "text": [
      "[Fold 1/133] ==> True label: 19, Prediction: 26\n",
      "[Fold 2/133] ==> True label: 19, Prediction: 25\n",
      "[Fold 3/133] ==> True label: 19, Prediction: 22\n",
      "[Fold 4/133] ==> True label: 19, Prediction: 22\n",
      "[Fold 5/133] ==> True label: 20, Prediction: 23\n",
      "[Fold 6/133] ==> True label: 20, Prediction: 31\n",
      "[Fold 7/133] ==> True label: 31, Prediction: 16\n",
      "[Fold 8/133] ==> True label: 31, Prediction: 32\n",
      "[Fold 9/133] ==> True label: 32, Prediction: 31\n",
      "[Fold 10/133] ==> True label: 32, Prediction: 31\n",
      "[Fold 11/133] ==> True label: 33, Prediction: 12\n",
      "[Fold 12/133] ==> True label: 33, Prediction: 23\n",
      "[Fold 13/133] ==> True label: 37, Prediction: 30\n",
      "[Fold 14/133] ==> True label: 37, Prediction: 31\n",
      "[Fold 15/133] ==> True label: 37, Prediction: 31\n",
      "[Fold 16/133] ==> True label: 39, Prediction: 19\n",
      "[Fold 17/133] ==> True label: 51, Prediction: 70\n",
      "[Fold 18/133] ==> True label: 52, Prediction: 29\n",
      "[Fold 19/133] ==> True label: 55, Prediction: 25\n",
      "[Fold 20/133] ==> True label: 57, Prediction: 40\n",
      "[Fold 21/133] ==> True label: 60, Prediction: 75\n",
      "[Fold 22/133] ==> True label: 71, Prediction: 51\n",
      "[Fold 23/133] ==> True label: 75, Prediction: 57\n",
      "[Fold 24/133] ==> True label: 78, Prediction: 68\n",
      "[Fold 25/133] ==> True label: 80, Prediction: 29\n",
      "[Fold 26/133] ==> True label: 94, Prediction: 89\n",
      "[Fold 27/133] ==> True label: 89, Prediction: 87\n",
      "[Fold 28/133] ==> True label: 87, Prediction: 89\n",
      "[Fold 29/133] ==> True label: 90, Prediction: 87\n",
      "[Fold 30/133] ==> True label: 89, Prediction: 87\n",
      "[Fold 31/133] ==> True label: 86, Prediction: 87\n",
      "[Fold 32/133] ==> True label: 92, Prediction: 89\n",
      "[Fold 33/133] ==> True label: 87, Prediction: 89\n",
      "[Fold 34/133] ==> True label: 1, Prediction: 16\n",
      "[Fold 35/133] ==> True label: 12, Prediction: 29\n",
      "[Fold 36/133] ==> True label: 22, Prediction: 12\n",
      "[Fold 37/133] ==> True label: 25, Prediction: 22\n",
      "[Fold 38/133] ==> True label: 29, Prediction: 20\n",
      "[Fold 39/133] ==> True label: 24, Prediction: 26\n",
      "[Fold 40/133] ==> True label: 23, Prediction: 66\n",
      "[Fold 41/133] ==> True label: 26, Prediction: 68\n",
      "[Fold 42/133] ==> True label: 21, Prediction: 23\n",
      "[Fold 43/133] ==> True label: 24, Prediction: 16\n",
      "[Fold 44/133] ==> True label: 67, Prediction: 68\n",
      "[Fold 45/133] ==> True label: 67, Prediction: 68\n",
      "[Fold 46/133] ==> True label: 68, Prediction: 83\n",
      "[Fold 47/133] ==> True label: 82, Prediction: 24\n",
      "[Fold 48/133] ==> True label: 66, Prediction: 25\n",
      "[Fold 49/133] ==> True label: 68, Prediction: 67\n",
      "[Fold 50/133] ==> True label: 70, Prediction: 68\n",
      "[Fold 51/133] ==> True label: 69, Prediction: 24\n",
      "[Fold 52/133] ==> True label: 25, Prediction: 32\n",
      "[Fold 53/133] ==> True label: 25, Prediction: 29\n",
      "[Fold 54/133] ==> True label: 26, Prediction: 30\n",
      "[Fold 55/133] ==> True label: 26, Prediction: 30\n",
      "[Fold 56/133] ==> True label: 28, Prediction: 30\n",
      "[Fold 57/133] ==> True label: 29, Prediction: 30\n",
      "[Fold 58/133] ==> True label: 29, Prediction: 68\n",
      "[Fold 59/133] ==> True label: 30, Prediction: 29\n",
      "[Fold 60/133] ==> True label: 30, Prediction: 30\n",
      "[Fold 61/133] ==> True label: 30, Prediction: 29\n",
      "[Fold 62/133] ==> True label: 30, Prediction: 30\n",
      "[Fold 63/133] ==> True label: 43, Prediction: 47\n",
      "[Fold 64/133] ==> True label: 44, Prediction: 51\n",
      "[Fold 65/133] ==> True label: 41, Prediction: 42\n",
      "[Fold 66/133] ==> True label: 47, Prediction: 32\n",
      "[Fold 67/133] ==> True label: 50, Prediction: 69\n",
      "[Fold 68/133] ==> True label: 46, Prediction: 46\n",
      "[Fold 69/133] ==> True label: 50, Prediction: 42\n",
      "[Fold 70/133] ==> True label: 42, Prediction: 33\n",
      "[Fold 71/133] ==> True label: 47, Prediction: 76\n",
      "[Fold 72/133] ==> True label: 41, Prediction: 67\n",
      "[Fold 73/133] ==> True label: 43, Prediction: 30\n",
      "[Fold 74/133] ==> True label: 44, Prediction: 29\n",
      "[Fold 75/133] ==> True label: 45, Prediction: 43\n",
      "[Fold 76/133] ==> True label: 46, Prediction: 46\n",
      "[Fold 77/133] ==> True label: 46, Prediction: 35\n",
      "[Fold 78/133] ==> True label: 47, Prediction: 29\n",
      "[Fold 79/133] ==> True label: 61, Prediction: 41\n",
      "[Fold 80/133] ==> True label: 62, Prediction: 17\n",
      "[Fold 81/133] ==> True label: 62, Prediction: 29\n",
      "[Fold 82/133] ==> True label: 63, Prediction: 31\n",
      "[Fold 83/133] ==> True label: 64, Prediction: 45\n",
      "[Fold 84/133] ==> True label: 66, Prediction: 68\n",
      "[Fold 85/133] ==> True label: 67, Prediction: 67\n",
      "[Fold 86/133] ==> True label: 67, Prediction: 31\n",
      "[Fold 87/133] ==> True label: 68, Prediction: 45\n",
      "[Fold 88/133] ==> True label: 68, Prediction: 31\n",
      "[Fold 89/133] ==> True label: 69, Prediction: 87\n",
      "[Fold 90/133] ==> True label: 69, Prediction: 68\n",
      "[Fold 91/133] ==> True label: 83, Prediction: 83\n",
      "[Fold 92/133] ==> True label: 83, Prediction: 83\n",
      "[Fold 93/133] ==> True label: 83, Prediction: 83\n",
      "[Fold 94/133] ==> True label: 84, Prediction: 84\n",
      "[Fold 95/133] ==> True label: 84, Prediction: 77\n",
      "[Fold 96/133] ==> True label: 84, Prediction: 83\n",
      "[Fold 97/133] ==> True label: 84, Prediction: 83\n",
      "[Fold 98/133] ==> True label: 84, Prediction: 83\n",
      "[Fold 99/133] ==> True label: 84, Prediction: 11\n",
      "[Fold 100/133] ==> True label: 84, Prediction: 83\n",
      "[Fold 101/133] ==> True label: 86, Prediction: 87\n",
      "[Fold 102/133] ==> True label: 86, Prediction: 90\n",
      "[Fold 103/133] ==> True label: 86, Prediction: 88\n",
      "[Fold 104/133] ==> True label: 87, Prediction: 87\n",
      "[Fold 105/133] ==> True label: 87, Prediction: 87\n",
      "[Fold 106/133] ==> True label: 87, Prediction: 87\n",
      "[Fold 107/133] ==> True label: 87, Prediction: 89\n",
      "[Fold 108/133] ==> True label: 88, Prediction: 19\n",
      "[Fold 109/133] ==> True label: 89, Prediction: 87\n",
      "[Fold 110/133] ==> True label: 90, Prediction: 88\n",
      "[Fold 111/133] ==> True label: 91, Prediction: 87\n",
      "[Fold 112/133] ==> True label: 92, Prediction: 86\n",
      "[Fold 113/133] ==> True label: 96, Prediction: 86\n",
      "[Fold 114/133] ==> True label: 1, Prediction: 11\n",
      "[Fold 115/133] ==> True label: 2, Prediction: 12\n",
      "[Fold 116/133] ==> True label: 3, Prediction: 11\n",
      "[Fold 117/133] ==> True label: 3, Prediction: 11\n",
      "[Fold 118/133] ==> True label: 5, Prediction: 9\n",
      "[Fold 119/133] ==> True label: 6, Prediction: 13\n",
      "[Fold 120/133] ==> True label: 7, Prediction: 7\n",
      "[Fold 121/133] ==> True label: 7, Prediction: 10\n",
      "[Fold 122/133] ==> True label: 8, Prediction: 11\n",
      "[Fold 123/133] ==> True label: 8, Prediction: 10\n",
      "[Fold 124/133] ==> True label: 9, Prediction: 13\n",
      "[Fold 125/133] ==> True label: 10, Prediction: 8\n",
      "[Fold 126/133] ==> True label: 10, Prediction: 7\n",
      "[Fold 127/133] ==> True label: 11, Prediction: 8\n",
      "[Fold 128/133] ==> True label: 11, Prediction: 19\n",
      "[Fold 129/133] ==> True label: 12, Prediction: 19\n",
      "[Fold 130/133] ==> True label: 13, Prediction: 16\n",
      "[Fold 131/133] ==> True label: 16, Prediction: 25\n",
      "[Fold 132/133] ==> True label: 17, Prediction: 8\n",
      "[Fold 133/133] ==> True label: 17, Prediction: 9\n",
      "Average train time: 4.183035 s, average eval time: 0.286801 s\n"
     ]
    }
   ],
   "source": [
    "from sklearn.model_selection import LeaveOneOut\n",
    "from sklearn.metrics import mean_absolute_error, median_absolute_error\n",
    "from sklearn.ensemble import RandomForestClassifier\n",
    "\n",
    "splitter = LeaveOneOut()\n",
    "true_labels = []\n",
    "pred_labels = []\n",
    "# min_impurity_split has been removed as of sklearn 0.23.2, so we use min_samples_leaf instead\n",
    "base_estimator = RandomForestClassifier(n_estimators=100, min_samples_leaf=2) \n",
    "# base_estimator = LogisticRegression()\n",
    "train_time, eval_time = 0.0, 0.0\n",
    "\n",
    "for fold, (train_ind, val_ind) in enumerate(splitter.split(data)):\n",
    "    model = VotingClassifier(20, base_estimator)\n",
    "    # model = LinearRegression()\n",
    "    # model = LogisticRegression()\n",
    "    # model = LDA(solver='eigen', shrinkage='auto')\n",
    "    train_timer = timer()\n",
    "    model.train(data.iloc[train_ind], labels.iloc[train_ind])\n",
    "    train_time += timer() - train_timer\n",
    "    eval_timer = timer()\n",
    "    pred = model.predict(data.iloc[val_ind]).reshape(-1,)\n",
    "    eval_time += timer() - eval_timer\n",
    "    true_labels.append(labels.iloc[val_ind].values[0])\n",
    "    pred_labels.append(pred[0])\n",
    "    print(f'[Fold {fold+1}/{splitter.get_n_splits(data)}] ==> True label: {true_labels[-1]}, Prediction: {pred_labels[-1]}')\n",
    "\n",
    "print(f'Average train time: {(train_time / splitter.get_n_splits(data)):.6f} s, average eval time: {(eval_time / splitter.get_n_splits(data)):.6f} s')"
   ]
  },
  {
   "cell_type": "code",
   "execution_count": 13,
   "metadata": {},
   "outputs": [
    {
     "data": {
      "text/plain": [
       "(10.992481203007518, 6.0)"
      ]
     },
     "execution_count": 13,
     "metadata": {},
     "output_type": "execute_result"
    }
   ],
   "source": [
    "import numpy as np\n",
    "\n",
    "mean_error = mean_absolute_error(np.array(true_labels), np.array(pred_labels))\n",
    "median_error = median_absolute_error(np.array(true_labels), np.array(pred_labels))\n",
    "mean_error, median_error"
   ]
  },
  {
   "cell_type": "code",
   "execution_count": 14,
   "metadata": {},
   "outputs": [
    {
     "data": {
      "text/plain": [
       "0.60559780349058"
      ]
     },
     "execution_count": 14,
     "metadata": {},
     "output_type": "execute_result"
    }
   ],
   "source": [
    "from sklearn.metrics import r2_score\n",
    "\n",
    "r2 = r2_score(np.array(true_labels), np.array(pred_labels))\n",
    "r2"
   ]
  },
  {
   "cell_type": "code",
   "execution_count": 15,
   "metadata": {},
   "outputs": [
    {
     "data": {
      "text/plain": [
       "Text(0, 0.5, 'Predictions')"
      ]
     },
     "execution_count": 15,
     "metadata": {},
     "output_type": "execute_result"
    },
    {
     "data": {
      "image/png": "[encoded data removed]",
      "text/plain": [
       "<Figure size 432x432 with 1 Axes>"
      ]
     },
     "metadata": {
      "needs_background": "light"
     },
     "output_type": "display_data"
    }
   ],
   "source": [
    "from seaborn import regplot\n",
    "import matplotlib.pyplot as plt\n",
    "\n",
    "plt.figure(figsize=(6, 6))\n",
    "regplot(x=true_labels, y=pred_labels)\n",
    "plt.title(f'Mean AE: {mean_error:.4f}, Median AE: {median_error:.4f}, R2 score: {r2:.4f}')\n",
    "plt.xlabel('True ages')\n",
    "plt.ylabel('Predictions')"
   ]
  }
 ],
 "metadata": {
  "kernelspec": {
   "display_name": "Python 3",
   "language": "python",
   "name": "python3"
  },
  "language_info": {
   "codemirror_mode": {
    "name": "ipython",
    "version": 3
   },
   "file_extension": ".py",
   "mimetype": "text/x-python",
   "name": "python",
   "nbconvert_exporter": "python",
   "pygments_lexer": "ipython3",
   "version": "3.10.10"
  },
  "orig_nbformat": 4
 },
 "nbformat": 4,
 "nbformat_minor": 2
}
