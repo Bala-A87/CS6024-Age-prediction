{
 "cells": [
  {
   "cell_type": "code",
   "execution_count": 11,
   "metadata": {},
   "outputs": [],
   "source": [
    "from scripts.get_data import get_processed_data\n",
    "from scripts.models import VotingClassifier\n",
    "from timeit import default_timer as timer\n",
    "import numpy as np\n",
    "import matplotlib.pyplot as plt\n",
    "from seaborn import regplot"
   ]
  },
  {
   "cell_type": "code",
   "execution_count": 2,
   "metadata": {},
   "outputs": [],
   "source": [
    "data, labels = get_processed_data(\n",
    "    corr_thresh=0.9,\n",
    "    minmax_scale=True,\n",
    "    var_thresh=0.01\n",
    ")"
   ]
  },
  {
   "cell_type": "code",
   "execution_count": 3,
   "metadata": {},
   "outputs": [],
   "source": [
    "data_arr, labels_arr = np.array(data), np.array(labels)"
   ]
  },
  {
   "attachments": {},
   "cell_type": "markdown",
   "metadata": {},
   "source": [
    "## Voting ensemble"
   ]
  },
  {
   "cell_type": "code",
   "execution_count": 8,
   "metadata": {},
   "outputs": [
    {
     "name": "stdout",
     "output_type": "stream",
     "text": [
      "[Fold 1/133] ==> True label: 19, Prediction: 21\n",
      "[Fold 2/133] ==> True label: 19, Prediction: 29\n",
      "[Fold 3/133] ==> True label: 19, Prediction: 19\n",
      "[Fold 4/133] ==> True label: 19, Prediction: 19\n",
      "[Fold 5/133] ==> True label: 20, Prediction: 19\n",
      "[Fold 6/133] ==> True label: 20, Prediction: 66\n",
      "[Fold 7/133] ==> True label: 31, Prediction: 17\n",
      "[Fold 8/133] ==> True label: 31, Prediction: 29\n",
      "[Fold 9/133] ==> True label: 32, Prediction: 26\n",
      "[Fold 10/133] ==> True label: 32, Prediction: 32\n",
      "[Fold 11/133] ==> True label: 33, Prediction: 12\n",
      "[Fold 12/133] ==> True label: 33, Prediction: 52\n",
      "[Fold 13/133] ==> True label: 37, Prediction: 23\n",
      "[Fold 14/133] ==> True label: 37, Prediction: 39\n",
      "[Fold 15/133] ==> True label: 37, Prediction: 70\n",
      "[Fold 16/133] ==> True label: 39, Prediction: 20\n",
      "[Fold 17/133] ==> True label: 51, Prediction: 61\n",
      "[Fold 18/133] ==> True label: 52, Prediction: 31\n",
      "[Fold 19/133] ==> True label: 55, Prediction: 32\n",
      "[Fold 20/133] ==> True label: 57, Prediction: 43\n",
      "[Fold 21/133] ==> True label: 60, Prediction: 80\n",
      "[Fold 22/133] ==> True label: 71, Prediction: 41\n",
      "[Fold 23/133] ==> True label: 75, Prediction: 57\n",
      "[Fold 24/133] ==> True label: 78, Prediction: 70\n",
      "[Fold 25/133] ==> True label: 80, Prediction: 35\n",
      "[Fold 26/133] ==> True label: 94, Prediction: 89\n",
      "[Fold 27/133] ==> True label: 89, Prediction: 89\n",
      "[Fold 28/133] ==> True label: 87, Prediction: 89\n",
      "[Fold 29/133] ==> True label: 90, Prediction: 87\n",
      "[Fold 30/133] ==> True label: 89, Prediction: 87\n",
      "[Fold 31/133] ==> True label: 86, Prediction: 87\n",
      "[Fold 32/133] ==> True label: 92, Prediction: 90\n",
      "[Fold 33/133] ==> True label: 87, Prediction: 90\n",
      "[Fold 34/133] ==> True label: 1, Prediction: 31\n",
      "[Fold 35/133] ==> True label: 12, Prediction: 32\n",
      "[Fold 36/133] ==> True label: 22, Prediction: 23\n",
      "[Fold 37/133] ==> True label: 25, Prediction: 23\n",
      "[Fold 38/133] ==> True label: 29, Prediction: 20\n",
      "[Fold 39/133] ==> True label: 24, Prediction: 29\n",
      "[Fold 40/133] ==> True label: 23, Prediction: 35\n",
      "[Fold 41/133] ==> True label: 26, Prediction: 68\n",
      "[Fold 42/133] ==> True label: 21, Prediction: 19\n",
      "[Fold 43/133] ==> True label: 24, Prediction: 17\n",
      "[Fold 44/133] ==> True label: 67, Prediction: 67\n",
      "[Fold 45/133] ==> True label: 67, Prediction: 69\n",
      "[Fold 46/133] ==> True label: 68, Prediction: 84\n",
      "[Fold 47/133] ==> True label: 82, Prediction: 24\n",
      "[Fold 48/133] ==> True label: 66, Prediction: 20\n",
      "[Fold 49/133] ==> True label: 68, Prediction: 27\n",
      "[Fold 50/133] ==> True label: 70, Prediction: 78\n",
      "[Fold 51/133] ==> True label: 69, Prediction: 21\n",
      "[Fold 52/133] ==> True label: 25, Prediction: 50\n",
      "[Fold 53/133] ==> True label: 25, Prediction: 29\n",
      "[Fold 54/133] ==> True label: 26, Prediction: 24\n",
      "[Fold 55/133] ==> True label: 26, Prediction: 43\n",
      "[Fold 56/133] ==> True label: 28, Prediction: 30\n",
      "[Fold 57/133] ==> True label: 29, Prediction: 30\n",
      "[Fold 58/133] ==> True label: 29, Prediction: 27\n",
      "[Fold 59/133] ==> True label: 30, Prediction: 26\n",
      "[Fold 60/133] ==> True label: 30, Prediction: 31\n",
      "[Fold 61/133] ==> True label: 30, Prediction: 29\n",
      "[Fold 62/133] ==> True label: 30, Prediction: 28\n",
      "[Fold 63/133] ==> True label: 43, Prediction: 47\n",
      "[Fold 64/133] ==> True label: 44, Prediction: 50\n",
      "[Fold 65/133] ==> True label: 41, Prediction: 46\n",
      "[Fold 66/133] ==> True label: 47, Prediction: 40\n",
      "[Fold 67/133] ==> True label: 50, Prediction: 64\n",
      "[Fold 68/133] ==> True label: 46, Prediction: 44\n",
      "[Fold 69/133] ==> True label: 50, Prediction: 42\n",
      "[Fold 70/133] ==> True label: 42, Prediction: 47\n",
      "[Fold 71/133] ==> True label: 47, Prediction: 59\n",
      "[Fold 72/133] ==> True label: 41, Prediction: 64\n",
      "[Fold 73/133] ==> True label: 43, Prediction: 46\n",
      "[Fold 74/133] ==> True label: 44, Prediction: 30\n",
      "[Fold 75/133] ==> True label: 45, Prediction: 59\n",
      "[Fold 76/133] ==> True label: 46, Prediction: 55\n",
      "[Fold 77/133] ==> True label: 46, Prediction: 43\n",
      "[Fold 78/133] ==> True label: 47, Prediction: 40\n",
      "[Fold 79/133] ==> True label: 61, Prediction: 43\n",
      "[Fold 80/133] ==> True label: 62, Prediction: 25\n",
      "[Fold 81/133] ==> True label: 62, Prediction: 68\n",
      "[Fold 82/133] ==> True label: 63, Prediction: 46\n",
      "[Fold 83/133] ==> True label: 64, Prediction: 46\n",
      "[Fold 84/133] ==> True label: 66, Prediction: 67\n",
      "[Fold 85/133] ==> True label: 67, Prediction: 66\n",
      "[Fold 86/133] ==> True label: 67, Prediction: 47\n",
      "[Fold 87/133] ==> True label: 68, Prediction: 50\n",
      "[Fold 88/133] ==> True label: 68, Prediction: 61\n",
      "[Fold 89/133] ==> True label: 69, Prediction: 46\n",
      "[Fold 90/133] ==> True label: 69, Prediction: 67\n",
      "[Fold 91/133] ==> True label: 83, Prediction: 84\n",
      "[Fold 92/133] ==> True label: 83, Prediction: 84\n",
      "[Fold 93/133] ==> True label: 83, Prediction: 84\n",
      "[Fold 94/133] ==> True label: 84, Prediction: 84\n",
      "[Fold 95/133] ==> True label: 84, Prediction: 82\n",
      "[Fold 96/133] ==> True label: 84, Prediction: 83\n",
      "[Fold 97/133] ==> True label: 84, Prediction: 84\n",
      "[Fold 98/133] ==> True label: 84, Prediction: 84\n",
      "[Fold 99/133] ==> True label: 84, Prediction: 84\n",
      "[Fold 100/133] ==> True label: 84, Prediction: 83\n",
      "[Fold 101/133] ==> True label: 86, Prediction: 87\n",
      "[Fold 102/133] ==> True label: 86, Prediction: 91\n",
      "[Fold 103/133] ==> True label: 86, Prediction: 87\n",
      "[Fold 104/133] ==> True label: 87, Prediction: 89\n",
      "[Fold 105/133] ==> True label: 87, Prediction: 32\n",
      "[Fold 106/133] ==> True label: 87, Prediction: 86\n",
      "[Fold 107/133] ==> True label: 87, Prediction: 87\n",
      "[Fold 108/133] ==> True label: 88, Prediction: 83\n",
      "[Fold 109/133] ==> True label: 89, Prediction: 87\n",
      "[Fold 110/133] ==> True label: 90, Prediction: 89\n",
      "[Fold 111/133] ==> True label: 91, Prediction: 87\n",
      "[Fold 112/133] ==> True label: 92, Prediction: 89\n",
      "[Fold 113/133] ==> True label: 96, Prediction: 86\n",
      "[Fold 114/133] ==> True label: 1, Prediction: 3\n",
      "[Fold 115/133] ==> True label: 2, Prediction: 10\n",
      "[Fold 116/133] ==> True label: 3, Prediction: 3\n",
      "[Fold 117/133] ==> True label: 3, Prediction: 10\n",
      "[Fold 118/133] ==> True label: 5, Prediction: 10\n",
      "[Fold 119/133] ==> True label: 6, Prediction: 7\n",
      "[Fold 120/133] ==> True label: 7, Prediction: 6\n",
      "[Fold 121/133] ==> True label: 7, Prediction: 8\n",
      "[Fold 122/133] ==> True label: 8, Prediction: 11\n",
      "[Fold 123/133] ==> True label: 8, Prediction: 16\n",
      "[Fold 124/133] ==> True label: 9, Prediction: 13\n",
      "[Fold 125/133] ==> True label: 10, Prediction: 7\n",
      "[Fold 126/133] ==> True label: 10, Prediction: 6\n",
      "[Fold 127/133] ==> True label: 11, Prediction: 8\n",
      "[Fold 128/133] ==> True label: 11, Prediction: 13\n",
      "[Fold 129/133] ==> True label: 12, Prediction: 20\n",
      "[Fold 130/133] ==> True label: 13, Prediction: 17\n",
      "[Fold 131/133] ==> True label: 16, Prediction: 31\n",
      "[Fold 132/133] ==> True label: 17, Prediction: 8\n",
      "[Fold 133/133] ==> True label: 17, Prediction: 13\n",
      "Average train time: 0.141275, Average eval time: 0.002784\n"
     ]
    }
   ],
   "source": [
    "from sklearn.model_selection import LeaveOneOut\n",
    "from sklearn.metrics import mean_absolute_error as mae, median_absolute_error as med, r2_score as r2\n",
    "from sklearn.feature_selection import SelectKBest, f_regression\n",
    "from warnings import catch_warnings, simplefilter\n",
    "from sklearn.svm import SVC\n",
    "from sklearn.discriminant_analysis import LinearDiscriminantAnalysis as LDA\n",
    "\n",
    "splitter = LeaveOneOut()\n",
    "true_labels = []\n",
    "pred_labels = []\n",
    "base_estimator = SVC(kernel='linear')\n",
    "train_time, eval_time = 0.0, 0.0\n",
    "\n",
    "with catch_warnings():\n",
    "    simplefilter('ignore')\n",
    "    for fold, (train_ind, val_ind) in enumerate(splitter.split(data_arr)):\n",
    "        model = VotingClassifier(20, base_estimator)\n",
    "        X_train = data_arr[train_ind]\n",
    "        X_val = data_arr[val_ind]\n",
    "        Y_train = labels_arr[train_ind]\n",
    "        Y_val = labels_arr[val_ind]\n",
    "        feat_sel = SelectKBest(score_func=f_regression, k=1000)\n",
    "        X_train_sel = feat_sel.fit_transform(X_train, Y_train)\n",
    "        X_val_sel = feat_sel.transform(X_val)\n",
    "\n",
    "        start_time = timer()\n",
    "        model.fit(X_train_sel, Y_train)\n",
    "        train_time += timer() - start_time\n",
    "\n",
    "        start_time = timer()\n",
    "        pred = model.predict(X_val_sel).reshape(-1,)\n",
    "        eval_time += timer() - start_time\n",
    "\n",
    "        true_labels.append(Y_val[0])\n",
    "        pred_labels.append(pred[0])\n",
    "\n",
    "        print(f'[Fold {fold+1}/{splitter.get_n_splits(data_arr)}] ==> True label: {true_labels[-1]}, Prediction: {pred_labels[-1]}')\n",
    "\n",
    "print(f'Average train time: {(train_time / splitter.get_n_splits(data_arr)):.6f}, Average eval time: {(eval_time / splitter.get_n_splits(data_arr)):.6f}')"
   ]
  },
  {
   "cell_type": "code",
   "execution_count": 10,
   "metadata": {},
   "outputs": [
    {
     "name": "stdout",
     "output_type": "stream",
     "text": [
      "MAE = 9.7669, MED = 4.0000, R2 = 0.6975\n"
     ]
    }
   ],
   "source": [
    "mae_val = mae(true_labels, pred_labels)\n",
    "med_val = med(true_labels, pred_labels)\n",
    "r2_val = r2(true_labels, pred_labels)\n",
    "print(f'MAE = {mae_val:.4f}, MED = {med_val:.4f}, R2 = {r2_val:.4f}')"
   ]
  },
  {
   "cell_type": "code",
   "execution_count": 18,
   "metadata": {},
   "outputs": [
    {
     "data": {
      "text/plain": [
       "<matplotlib.collections.PathCollection at 0x7ff65acbe440>"
      ]
     },
     "execution_count": 18,
     "metadata": {},
     "output_type": "execute_result"
    },
    {
     "data": {
      "image/png": "[encoded data removed]",
      "text/plain": [
       "<Figure size 600x600 with 1 Axes>"
      ]
     },
     "metadata": {},
     "output_type": "display_data"
    }
   ],
   "source": [
    "plt.figure(figsize=(6, 6))\n",
    "regplot(x=true_labels, y=pred_labels)\n",
    "xmin, xmax = plt.xlim()\n",
    "plt.scatter(np.arange(xmin, xmax+1), np.arange(xmin, xmax+1), c='black', s=1, alpha=0.5)"
   ]
  },
  {
   "cell_type": "code",
   "execution_count": null,
   "metadata": {},
   "outputs": [],
   "source": []
  }
 ],
 "metadata": {
  "kernelspec": {
   "display_name": "Python 3",
   "language": "python",
   "name": "python3"
  },
  "language_info": {
   "codemirror_mode": {
    "name": "ipython",
    "version": 3
   },
   "file_extension": ".py",
   "mimetype": "text/x-python",
   "name": "python",
   "nbconvert_exporter": "python",
   "pygments_lexer": "ipython3",
   "version": "3.10.6"
  },
  "orig_nbformat": 4
 },
 "nbformat": 4,
 "nbformat_minor": 2
}
