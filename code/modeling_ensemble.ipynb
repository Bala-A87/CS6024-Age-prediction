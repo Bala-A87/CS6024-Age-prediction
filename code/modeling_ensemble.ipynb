{
 "cells": [
  {
   "cell_type": "code",
   "execution_count": 1,
   "metadata": {},
   "outputs": [],
   "source": [
    "from scripts.get_data import get_processed_data\n",
    "from scripts.models import VotingClassifier"
   ]
  },
  {
   "cell_type": "code",
   "execution_count": 2,
   "metadata": {},
   "outputs": [],
   "source": [
    "# logistic regression\n",
    "from sklearn.linear_model import LogisticRegression \n",
    "# elastic net \n",
    "from sklearn.linear_model import ElasticNet\n",
    "# svm classifier\n",
    "from sklearn.svm import SVC\n",
    "# lda \n",
    "from sklearn.discriminant_analysis import LinearDiscriminantAnalysis as LDA"
   ]
  },
  {
   "cell_type": "code",
   "execution_count": 3,
   "metadata": {},
   "outputs": [],
   "source": [
    "from sklearn.feature_selection import mutual_info_regression, mutual_info_classif\n",
    "\n",
    "data, labels = get_processed_data(corr_thresh=0.9, minmax_scale=True, var_thresh=0.01, k_to_select='all')"
   ]
  },
  {
   "cell_type": "code",
   "execution_count": 4,
   "metadata": {},
   "outputs": [],
   "source": [
    "from timeit import default_timer as timer   "
   ]
  },
  {
   "attachments": {},
   "cell_type": "markdown",
   "metadata": {},
   "source": [
    "## Ensemble model\n",
    "\n",
    "This uses an implementation of the ensemble model as described in the paper. This is so that we can use this as a baseline to make comparisons."
   ]
  },
  {
   "cell_type": "code",
   "execution_count": 4,
   "metadata": {},
   "outputs": [],
   "source": [
    "model = VotingClassifier(20, SVC(kernel='linear'))\n",
    "model.train(data.values, labels)\n",
    "predictions = model.predict(data.values)"
   ]
  },
  {
   "cell_type": "code",
   "execution_count": 5,
   "metadata": {},
   "outputs": [
    {
     "data": {
      "text/plain": [
       "(0.0, 1.0)"
      ]
     },
     "execution_count": 5,
     "metadata": {},
     "output_type": "execute_result"
    }
   ],
   "source": [
    "from sklearn.metrics import mean_absolute_error, accuracy_score\n",
    "\n",
    "mean_absolute_error(labels, predictions), accuracy_score(labels, predictions)"
   ]
  },
  {
   "attachments": {},
   "cell_type": "markdown",
   "metadata": {},
   "source": [
    "We have 100% accuracy on the training data when the `N` different models are all `SVC()`. "
   ]
  },
  {
   "cell_type": "code",
   "execution_count": 36,
   "metadata": {},
   "outputs": [],
   "source": [
    "from sklearn.base import BaseEstimator, clone\n",
    "import pandas as pd\n",
    "import numpy as np\n",
    "\n",
    "class HierarchicalModel():\n",
    "    def __init__(\n",
    "        self,\n",
    "        num_bins: int,\n",
    "        bin_predictor: BaseEstimator,\n",
    "        output_predictor: BaseEstimator,\n",
    "        task_type: str = 'classification'\n",
    "    ) -> None:\n",
    "        self.num_bins = num_bins\n",
    "        self.binner = clone(bin_predictor)\n",
    "        self.predictors = []\n",
    "        for _ in range(num_bins):\n",
    "            self.predictors.append(clone(output_predictor))\n",
    "        self.task_type = task_type\n",
    "    \n",
    "    def fit(self, X: np.array, y: np.array):\n",
    "        y_sort = np.sort(y)\n",
    "        # y_sort = y.sort_values(inplace=False)\n",
    "        self.bin_endpts = []\n",
    "        for bin in range(1, self.num_bins):\n",
    "            self.bin_endpts.append(y_sort[int(bin * len(y) / self.num_bins)])\n",
    "        y_transformed_list = []\n",
    "        for i in range(len(y)):\n",
    "            bin = 0\n",
    "            for j, endpt in enumerate(self.bin_endpts):\n",
    "                if endpt > y[i]:\n",
    "                    bin = j\n",
    "                    break\n",
    "            y_transformed_list.append(bin)\n",
    "        # y_transformed = pd.Series(y_transformed_list, index=y.index)\n",
    "        y_transformed = np.array(y_transformed_list)\n",
    "        # X_bins = []\n",
    "        # y_bins = []\n",
    "        self.binner.fit(X, y_transformed)\n",
    "        for bin in range(self.num_bins):\n",
    "            X_bin = X[y_transformed == bin]\n",
    "            y_bin = y[y_transformed == bin]\n",
    "            if len(X_bin.shape) == 1:\n",
    "                X_bin = X_bin.reshape(1, -1)\n",
    "        # for bin in range(self.num_bins):\n",
    "            if len(y_bin) > 0:\n",
    "                self.predictors[bin].fit(X_bin, y_bin)\n",
    "    \n",
    "    def predict(self, X: np.array):\n",
    "        # X_arr = np.array(X)\n",
    "        if len(X.shape) == 1:\n",
    "            X = X.reshape(1, -1)\n",
    "        # pred_bins = pd.Series(self.binner.predict(X), index=X.index)\n",
    "        pred_bins = self.binner.predict(X)\n",
    "        # X_bins = []\n",
    "        # y_bins = []\n",
    "        preds = []\n",
    "        for i in range(len(X)):\n",
    "            preds.append(self.predictors[pred_bins[i]].predict(np.array(X[i]).reshape(1, -1)))\n",
    "        preds = np.array(preds).reshape(-1,)\n",
    "        return preds\n",
    "    "
   ]
  },
  {
   "cell_type": "code",
   "execution_count": 37,
   "metadata": {},
   "outputs": [],
   "source": [
    "model = HierarchicalModel(4, SVC(), SVC())"
   ]
  },
  {
   "cell_type": "code",
   "execution_count": 45,
   "metadata": {},
   "outputs": [],
   "source": [
    "data_arr = np.array(data)\n",
    "labels_arr = np.array(labels)"
   ]
  },
  {
   "cell_type": "code",
   "execution_count": 47,
   "metadata": {},
   "outputs": [],
   "source": [
    "model.fit(data_arr, labels_arr)"
   ]
  },
  {
   "cell_type": "code",
   "execution_count": 48,
   "metadata": {},
   "outputs": [
    {
     "data": {
      "text/plain": [
       "array([19])"
      ]
     },
     "execution_count": 48,
     "metadata": {},
     "output_type": "execute_result"
    }
   ],
   "source": [
    "model.predict(data_arr[0])"
   ]
  },
  {
   "attachments": {},
   "cell_type": "markdown",
   "metadata": {},
   "source": [
    "## Leave One Out scoring"
   ]
  },
  {
   "cell_type": "code",
   "execution_count": 49,
   "metadata": {},
   "outputs": [
    {
     "name": "stdout",
     "output_type": "stream",
     "text": [
      "[Fold 1/133] ==> True label: 19, Prediction: 20\n",
      "[Fold 2/133] ==> True label: 19, Prediction: 20\n",
      "[Fold 3/133] ==> True label: 19, Prediction: 19\n",
      "[Fold 4/133] ==> True label: 19, Prediction: 19\n",
      "[Fold 5/133] ==> True label: 20, Prediction: 19\n",
      "[Fold 6/133] ==> True label: 20, Prediction: 19\n",
      "[Fold 7/133] ==> True label: 31, Prediction: 20\n",
      "[Fold 8/133] ==> True label: 31, Prediction: 16\n",
      "[Fold 9/133] ==> True label: 32, Prediction: 75\n",
      "[Fold 10/133] ==> True label: 32, Prediction: 37\n",
      "[Fold 11/133] ==> True label: 33, Prediction: 19\n",
      "[Fold 12/133] ==> True label: 33, Prediction: 19\n",
      "[Fold 13/133] ==> True label: 37, Prediction: 19\n",
      "[Fold 14/133] ==> True label: 37, Prediction: 33\n",
      "[Fold 15/133] ==> True label: 37, Prediction: 68\n",
      "[Fold 16/133] ==> True label: 39, Prediction: 19\n",
      "[Fold 17/133] ==> True label: 51, Prediction: 69\n",
      "[Fold 18/133] ==> True label: 52, Prediction: 37\n",
      "[Fold 19/133] ==> True label: 55, Prediction: 37\n",
      "[Fold 20/133] ==> True label: 57, Prediction: 50\n",
      "[Fold 21/133] ==> True label: 60, Prediction: 80\n",
      "[Fold 22/133] ==> True label: 71, Prediction: 50\n",
      "[Fold 23/133] ==> True label: 75, Prediction: 32\n",
      "[Fold 24/133] ==> True label: 78, Prediction: 69\n",
      "[Fold 25/133] ==> True label: 80, Prediction: 19\n",
      "[Fold 26/133] ==> True label: 94, Prediction: 89\n",
      "[Fold 27/133] ==> True label: 89, Prediction: 94\n",
      "[Fold 28/133] ==> True label: 87, Prediction: 89\n",
      "[Fold 29/133] ==> True label: 90, Prediction: 87\n",
      "[Fold 30/133] ==> True label: 89, Prediction: 87\n",
      "[Fold 31/133] ==> True label: 86, Prediction: 87\n",
      "[Fold 32/133] ==> True label: 92, Prediction: 87\n",
      "[Fold 33/133] ==> True label: 87, Prediction: 90\n",
      "[Fold 34/133] ==> True label: 1, Prediction: 24\n",
      "[Fold 35/133] ==> True label: 12, Prediction: 29\n",
      "[Fold 36/133] ==> True label: 22, Prediction: 24\n",
      "[Fold 37/133] ==> True label: 25, Prediction: 19\n",
      "[Fold 38/133] ==> True label: 29, Prediction: 20\n",
      "[Fold 39/133] ==> True label: 24, Prediction: 19\n",
      "[Fold 40/133] ==> True label: 23, Prediction: 68\n",
      "[Fold 41/133] ==> True label: 26, Prediction: 68\n",
      "[Fold 42/133] ==> True label: 21, Prediction: 20\n",
      "[Fold 43/133] ==> True label: 24, Prediction: 84\n",
      "[Fold 44/133] ==> True label: 67, Prediction: 23\n",
      "[Fold 45/133] ==> True label: 67, Prediction: 69\n",
      "[Fold 46/133] ==> True label: 68, Prediction: 19\n",
      "[Fold 47/133] ==> True label: 82, Prediction: 19\n",
      "[Fold 48/133] ==> True label: 66, Prediction: 19\n",
      "[Fold 49/133] ==> True label: 68, Prediction: 69\n",
      "[Fold 50/133] ==> True label: 70, Prediction: 71\n",
      "[Fold 51/133] ==> True label: 69, Prediction: 21\n",
      "[Fold 52/133] ==> True label: 25, Prediction: 84\n",
      "[Fold 53/133] ==> True label: 25, Prediction: 68\n",
      "[Fold 54/133] ==> True label: 26, Prediction: 30\n",
      "[Fold 55/133] ==> True label: 26, Prediction: 30\n",
      "[Fold 56/133] ==> True label: 28, Prediction: 30\n",
      "[Fold 57/133] ==> True label: 29, Prediction: 30\n",
      "[Fold 58/133] ==> True label: 29, Prediction: 67\n",
      "[Fold 59/133] ==> True label: 30, Prediction: 24\n",
      "[Fold 60/133] ==> True label: 30, Prediction: 26\n",
      "[Fold 61/133] ==> True label: 30, Prediction: 28\n",
      "[Fold 62/133] ==> True label: 30, Prediction: 30\n",
      "[Fold 63/133] ==> True label: 43, Prediction: 46\n",
      "[Fold 64/133] ==> True label: 44, Prediction: 69\n",
      "[Fold 65/133] ==> True label: 41, Prediction: 50\n",
      "[Fold 66/133] ==> True label: 47, Prediction: 25\n",
      "[Fold 67/133] ==> True label: 50, Prediction: 64\n",
      "[Fold 68/133] ==> True label: 46, Prediction: 64\n",
      "[Fold 69/133] ==> True label: 50, Prediction: 25\n",
      "[Fold 70/133] ==> True label: 42, Prediction: 37\n",
      "[Fold 71/133] ==> True label: 47, Prediction: 69\n",
      "[Fold 72/133] ==> True label: 41, Prediction: 50\n",
      "[Fold 73/133] ==> True label: 43, Prediction: 30\n",
      "[Fold 74/133] ==> True label: 44, Prediction: 24\n",
      "[Fold 75/133] ==> True label: 45, Prediction: 46\n",
      "[Fold 76/133] ==> True label: 46, Prediction: 46\n",
      "[Fold 77/133] ==> True label: 46, Prediction: 43\n",
      "[Fold 78/133] ==> True label: 47, Prediction: 24\n",
      "[Fold 79/133] ==> True label: 61, Prediction: 43\n",
      "[Fold 80/133] ==> True label: 62, Prediction: 20\n",
      "[Fold 81/133] ==> True label: 62, Prediction: 68\n",
      "[Fold 82/133] ==> True label: 63, Prediction: 24\n",
      "[Fold 83/133] ==> True label: 64, Prediction: 46\n",
      "[Fold 84/133] ==> True label: 66, Prediction: 68\n",
      "[Fold 85/133] ==> True label: 67, Prediction: 62\n",
      "[Fold 86/133] ==> True label: 67, Prediction: 24\n",
      "[Fold 87/133] ==> True label: 68, Prediction: 45\n",
      "[Fold 88/133] ==> True label: 68, Prediction: 26\n",
      "[Fold 89/133] ==> True label: 69, Prediction: 46\n",
      "[Fold 90/133] ==> True label: 69, Prediction: 37\n",
      "[Fold 91/133] ==> True label: 83, Prediction: 84\n",
      "[Fold 92/133] ==> True label: 83, Prediction: 84\n",
      "[Fold 93/133] ==> True label: 83, Prediction: 84\n",
      "[Fold 94/133] ==> True label: 84, Prediction: 84\n",
      "[Fold 95/133] ==> True label: 84, Prediction: 84\n",
      "[Fold 96/133] ==> True label: 84, Prediction: 83\n",
      "[Fold 97/133] ==> True label: 84, Prediction: 84\n",
      "[Fold 98/133] ==> True label: 84, Prediction: 84\n",
      "[Fold 99/133] ==> True label: 84, Prediction: 88\n",
      "[Fold 100/133] ==> True label: 84, Prediction: 83\n",
      "[Fold 101/133] ==> True label: 86, Prediction: 87\n",
      "[Fold 102/133] ==> True label: 86, Prediction: 92\n",
      "[Fold 103/133] ==> True label: 86, Prediction: 86\n",
      "[Fold 104/133] ==> True label: 87, Prediction: 89\n",
      "[Fold 105/133] ==> True label: 87, Prediction: 91\n",
      "[Fold 106/133] ==> True label: 87, Prediction: 87\n",
      "[Fold 107/133] ==> True label: 87, Prediction: 86\n",
      "[Fold 108/133] ==> True label: 88, Prediction: 84\n",
      "[Fold 109/133] ==> True label: 89, Prediction: 87\n",
      "[Fold 110/133] ==> True label: 90, Prediction: 89\n",
      "[Fold 111/133] ==> True label: 91, Prediction: 87\n",
      "[Fold 112/133] ==> True label: 92, Prediction: 86\n",
      "[Fold 113/133] ==> True label: 96, Prediction: 90\n",
      "[Fold 114/133] ==> True label: 1, Prediction: 3\n",
      "[Fold 115/133] ==> True label: 2, Prediction: 3\n",
      "[Fold 116/133] ==> True label: 3, Prediction: 3\n",
      "[Fold 117/133] ==> True label: 3, Prediction: 10\n",
      "[Fold 118/133] ==> True label: 5, Prediction: 22\n",
      "[Fold 119/133] ==> True label: 6, Prediction: 3\n",
      "[Fold 120/133] ==> True label: 7, Prediction: 10\n",
      "[Fold 121/133] ==> True label: 7, Prediction: 3\n",
      "[Fold 122/133] ==> True label: 8, Prediction: 88\n",
      "[Fold 123/133] ==> True label: 8, Prediction: 10\n",
      "[Fold 124/133] ==> True label: 9, Prediction: 17\n",
      "[Fold 125/133] ==> True label: 10, Prediction: 8\n",
      "[Fold 126/133] ==> True label: 10, Prediction: 3\n",
      "[Fold 127/133] ==> True label: 11, Prediction: 10\n",
      "[Fold 128/133] ==> True label: 11, Prediction: 12\n",
      "[Fold 129/133] ==> True label: 12, Prediction: 19\n",
      "[Fold 130/133] ==> True label: 13, Prediction: 20\n",
      "[Fold 131/133] ==> True label: 16, Prediction: 20\n",
      "[Fold 132/133] ==> True label: 17, Prediction: 7\n",
      "[Fold 133/133] ==> True label: 17, Prediction: 9\n",
      "Average train time: 0.011120 s, average eval time: 0.000302 s\n"
     ]
    }
   ],
   "source": [
    "from sklearn.model_selection import LeaveOneOut\n",
    "from sklearn.metrics import mean_absolute_error, median_absolute_error\n",
    "from sklearn.linear_model import LinearRegression, LogisticRegression\n",
    "from sklearn.feature_selection import SelectKBest, f_regression\n",
    "from warnings import simplefilter, catch_warnings\n",
    "import numpy as np\n",
    "\n",
    "splitter = LeaveOneOut()\n",
    "true_labels = []\n",
    "pred_labels = []\n",
    "# base_estimator = LDA(solver='eigen', shrinkage='auto')\n",
    "base_estimator = SVC(kernel='linear')\n",
    "# base_estimator = LogisticRegression()\n",
    "train_time, eval_time = 0.0, 0.0\n",
    "# data_arr = np.array(data)\n",
    "# labels_arr = np.array(labels)\n",
    "\n",
    "with catch_warnings():\n",
    "    simplefilter('ignore')\n",
    "    for fold, (train_ind, val_ind) in enumerate(splitter.split(data)):\n",
    "        # model = VotingClassifier(20, base_estimator)\n",
    "        model = HierarchicalModel(4, SVC(), SVC(kernel='linear'))\n",
    "        # model = LinearRegression()\n",
    "        # model = LogisticRegression()\n",
    "        # model = LDA(solver='eigen', shrinkage='auto')\n",
    "        X_train = data.iloc[train_ind]\n",
    "        Y_train = labels.iloc[train_ind]\n",
    "        X_val = data.iloc[val_ind]\n",
    "        Y_val = labels.iloc[val_ind]\n",
    "        feat_sel = SelectKBest(score_func=f_regression, k=1000)\n",
    "        X_train_sel = feat_sel.fit_transform(X_train, Y_train)\n",
    "        X_val_sel = feat_sel.transform(X_val)\n",
    "        train_timer = timer()\n",
    "        model.fit(X_train_sel, np.array(Y_train))\n",
    "        train_time += timer() - train_timer\n",
    "        eval_timer = timer()\n",
    "        pred = model.predict(X_val_sel).reshape(-1,)\n",
    "        eval_time += timer() - eval_timer\n",
    "        # print(Y_val, pred)\n",
    "        true_labels.append(np.array(Y_val)[0])\n",
    "        pred_labels.append(pred[0])\n",
    "        print(f'[Fold {fold+1}/{splitter.get_n_splits(data)}] ==> True label: {true_labels[-1]}, Prediction: {pred_labels[-1]}')\n",
    "\n",
    "print(f'Average train time: {(train_time / splitter.get_n_splits(data)):.6f} s, average eval time: {(eval_time / splitter.get_n_splits(data)):.6f} s')"
   ]
  },
  {
   "cell_type": "code",
   "execution_count": 50,
   "metadata": {},
   "outputs": [
    {
     "data": {
      "text/plain": [
       "(13.308270676691729, 5.0)"
      ]
     },
     "execution_count": 50,
     "metadata": {},
     "output_type": "execute_result"
    }
   ],
   "source": [
    "import numpy as np\n",
    "\n",
    "mean_error = mean_absolute_error(np.array(true_labels), np.array(pred_labels))\n",
    "median_error = median_absolute_error(np.array(true_labels), np.array(pred_labels))\n",
    "mean_error, median_error"
   ]
  },
  {
   "cell_type": "code",
   "execution_count": 51,
   "metadata": {},
   "outputs": [
    {
     "data": {
      "text/plain": [
       "0.4450192462815111"
      ]
     },
     "execution_count": 51,
     "metadata": {},
     "output_type": "execute_result"
    }
   ],
   "source": [
    "from sklearn.metrics import r2_score\n",
    "\n",
    "r2 = r2_score(np.array(true_labels), np.array(pred_labels))\n",
    "r2"
   ]
  },
  {
   "cell_type": "code",
   "execution_count": 52,
   "metadata": {},
   "outputs": [
    {
     "data": {
      "text/plain": [
       "Text(0, 0.5, 'Predictions')"
      ]
     },
     "execution_count": 52,
     "metadata": {},
     "output_type": "execute_result"
    },
    {
     "data": {
      "image/png": "[encoded data removed]",
      "text/plain": [
       "<Figure size 600x600 with 1 Axes>"
      ]
     },
     "metadata": {},
     "output_type": "display_data"
    }
   ],
   "source": [
    "from seaborn import regplot\n",
    "import matplotlib.pyplot as plt\n",
    "\n",
    "plt.figure(figsize=(6, 6))\n",
    "regplot(x=true_labels, y=pred_labels)\n",
    "plt.title(f'Mean AE: {mean_error:.4f}, Median AE: {median_error:.4f}, R2 score: {r2:.4f}')\n",
    "plt.xlabel('True ages')\n",
    "plt.ylabel('Predictions')"
   ]
  },
  {
   "cell_type": "code",
   "execution_count": 19,
   "metadata": {},
   "outputs": [
    {
     "data": {
      "text/plain": [
       "array([5.45044700e-05, 8.70455709e-05, 1.15935181e-04, ...,\n",
       "       2.11463871e+00, 2.25569893e+00, 2.34520181e+00])"
      ]
     },
     "execution_count": 19,
     "metadata": {},
     "output_type": "execute_result"
    }
   ],
   "source": [
    "coefs = np.abs(model.coef_)\n",
    "coefs.sort()\n",
    "coefs"
   ]
  },
  {
   "cell_type": "code",
   "execution_count": 20,
   "metadata": {},
   "outputs": [
    {
     "data": {
      "text/plain": [
       "array([1.7042112 , 1.73475889, 1.74589329, 1.77024618, 1.77759588,\n",
       "       1.77976944, 1.95872393, 2.11463871, 2.25569893, 2.34520181])"
      ]
     },
     "execution_count": 20,
     "metadata": {},
     "output_type": "execute_result"
    }
   ],
   "source": [
    "coefs[-10:]"
   ]
  },
  {
   "cell_type": "code",
   "execution_count": null,
   "metadata": {},
   "outputs": [],
   "source": []
  }
 ],
 "metadata": {
  "kernelspec": {
   "display_name": "Python 3",
   "language": "python",
   "name": "python3"
  },
  "language_info": {
   "codemirror_mode": {
    "name": "ipython",
    "version": 3
   },
   "file_extension": ".py",
   "mimetype": "text/x-python",
   "name": "python",
   "nbconvert_exporter": "python",
   "pygments_lexer": "ipython3",
   "version": "3.10.6"
  },
  "orig_nbformat": 4
 },
 "nbformat": 4,
 "nbformat_minor": 2
}
