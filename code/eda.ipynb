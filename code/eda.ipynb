{
 "cells": [
  {
   "attachments": {},
   "cell_type": "markdown",
   "metadata": {},
   "source": [
    "## Data import"
   ]
  },
  {
   "cell_type": "code",
   "execution_count": 1,
   "metadata": {},
   "outputs": [],
   "source": [
    "import pandas as pd\n",
    "import numpy as np\n",
    "\n",
    "dataset = pd.read_csv('../data/dataset.tsv', sep='\\t')"
   ]
  },
  {
   "cell_type": "code",
   "execution_count": 2,
   "metadata": {},
   "outputs": [],
   "source": [
    "data = dataset.drop(columns=['age'], inplace=False)\n",
    "labels = dataset['age']"
   ]
  },
  {
   "cell_type": "code",
   "execution_count": 4,
   "metadata": {},
   "outputs": [
    {
     "data": {
      "text/html": [
       "<div>\n",
       "<style scoped>\n",
       "    .dataframe tbody tr th:only-of-type {\n",
       "        vertical-align: middle;\n",
       "    }\n",
       "\n",
       "    .dataframe tbody tr th {\n",
       "        vertical-align: top;\n",
       "    }\n",
       "\n",
       "    .dataframe thead th {\n",
       "        text-align: right;\n",
       "    }\n",
       "</style>\n",
       "<table border=\"1\" class=\"dataframe\">\n",
       "  <thead>\n",
       "    <tr style=\"text-align: right;\">\n",
       "      <th></th>\n",
       "      <th>NM_173803</th>\n",
       "      <th>NM_014423</th>\n",
       "      <th>NM_001103167</th>\n",
       "      <th>NR_134623</th>\n",
       "      <th>NR_024490</th>\n",
       "      <th>NM_018397</th>\n",
       "      <th>NM_001037671</th>\n",
       "      <th>NR_106859</th>\n",
       "      <th>NM_133458</th>\n",
       "      <th>NM_001080424</th>\n",
       "      <th>...</th>\n",
       "      <th>NR_029666</th>\n",
       "      <th>NM_080390</th>\n",
       "      <th>NM_001177675</th>\n",
       "      <th>NR_125786</th>\n",
       "      <th>NM_001291993</th>\n",
       "      <th>NM_021923</th>\n",
       "      <th>NM_017417</th>\n",
       "      <th>NM_004354</th>\n",
       "      <th>NR_024278</th>\n",
       "      <th>NM_145282</th>\n",
       "    </tr>\n",
       "  </thead>\n",
       "  <tbody>\n",
       "    <tr>\n",
       "      <th>count</th>\n",
       "      <td>133.000000</td>\n",
       "      <td>133.000000</td>\n",
       "      <td>133.000000</td>\n",
       "      <td>133.00000</td>\n",
       "      <td>133.000000</td>\n",
       "      <td>133.000000</td>\n",
       "      <td>133.0</td>\n",
       "      <td>133.000000</td>\n",
       "      <td>133.000000</td>\n",
       "      <td>133.000000</td>\n",
       "      <td>...</td>\n",
       "      <td>133.0</td>\n",
       "      <td>133.000000</td>\n",
       "      <td>133.000000</td>\n",
       "      <td>133.0</td>\n",
       "      <td>133.000000</td>\n",
       "      <td>133.000000</td>\n",
       "      <td>133.000000</td>\n",
       "      <td>133.000000</td>\n",
       "      <td>133.000000</td>\n",
       "      <td>133.000000</td>\n",
       "    </tr>\n",
       "    <tr>\n",
       "      <th>mean</th>\n",
       "      <td>0.124474</td>\n",
       "      <td>18.345647</td>\n",
       "      <td>0.414218</td>\n",
       "      <td>0.00197</td>\n",
       "      <td>1.006414</td>\n",
       "      <td>0.547263</td>\n",
       "      <td>0.0</td>\n",
       "      <td>27.668767</td>\n",
       "      <td>6.133226</td>\n",
       "      <td>1.655526</td>\n",
       "      <td>...</td>\n",
       "      <td>0.0</td>\n",
       "      <td>0.098594</td>\n",
       "      <td>0.003947</td>\n",
       "      <td>0.0</td>\n",
       "      <td>5.590233</td>\n",
       "      <td>23.029218</td>\n",
       "      <td>0.005812</td>\n",
       "      <td>6.852872</td>\n",
       "      <td>1.189158</td>\n",
       "      <td>0.002639</td>\n",
       "    </tr>\n",
       "    <tr>\n",
       "      <th>std</th>\n",
       "      <td>0.078508</td>\n",
       "      <td>3.426647</td>\n",
       "      <td>0.171433</td>\n",
       "      <td>0.01309</td>\n",
       "      <td>0.316317</td>\n",
       "      <td>0.808279</td>\n",
       "      <td>0.0</td>\n",
       "      <td>7.176748</td>\n",
       "      <td>1.397833</td>\n",
       "      <td>0.531323</td>\n",
       "      <td>...</td>\n",
       "      <td>0.0</td>\n",
       "      <td>0.209719</td>\n",
       "      <td>0.012712</td>\n",
       "      <td>0.0</td>\n",
       "      <td>1.114522</td>\n",
       "      <td>10.267254</td>\n",
       "      <td>0.013509</td>\n",
       "      <td>2.821790</td>\n",
       "      <td>0.450767</td>\n",
       "      <td>0.013269</td>\n",
       "    </tr>\n",
       "    <tr>\n",
       "      <th>min</th>\n",
       "      <td>0.000000</td>\n",
       "      <td>9.253000</td>\n",
       "      <td>0.042000</td>\n",
       "      <td>0.00000</td>\n",
       "      <td>0.505000</td>\n",
       "      <td>0.014000</td>\n",
       "      <td>0.0</td>\n",
       "      <td>9.928000</td>\n",
       "      <td>3.503000</td>\n",
       "      <td>0.518000</td>\n",
       "      <td>...</td>\n",
       "      <td>0.0</td>\n",
       "      <td>0.000000</td>\n",
       "      <td>0.000000</td>\n",
       "      <td>0.0</td>\n",
       "      <td>3.285000</td>\n",
       "      <td>2.703000</td>\n",
       "      <td>0.000000</td>\n",
       "      <td>1.505000</td>\n",
       "      <td>0.392000</td>\n",
       "      <td>0.000000</td>\n",
       "    </tr>\n",
       "    <tr>\n",
       "      <th>25%</th>\n",
       "      <td>0.069000</td>\n",
       "      <td>16.064000</td>\n",
       "      <td>0.297000</td>\n",
       "      <td>0.00000</td>\n",
       "      <td>0.777000</td>\n",
       "      <td>0.106000</td>\n",
       "      <td>0.0</td>\n",
       "      <td>22.684000</td>\n",
       "      <td>5.052000</td>\n",
       "      <td>1.343000</td>\n",
       "      <td>...</td>\n",
       "      <td>0.0</td>\n",
       "      <td>0.000000</td>\n",
       "      <td>0.000000</td>\n",
       "      <td>0.0</td>\n",
       "      <td>4.823000</td>\n",
       "      <td>15.905000</td>\n",
       "      <td>0.000000</td>\n",
       "      <td>5.019000</td>\n",
       "      <td>0.918000</td>\n",
       "      <td>0.000000</td>\n",
       "    </tr>\n",
       "    <tr>\n",
       "      <th>50%</th>\n",
       "      <td>0.108000</td>\n",
       "      <td>17.884000</td>\n",
       "      <td>0.400000</td>\n",
       "      <td>0.00000</td>\n",
       "      <td>0.946000</td>\n",
       "      <td>0.218000</td>\n",
       "      <td>0.0</td>\n",
       "      <td>27.585000</td>\n",
       "      <td>5.961000</td>\n",
       "      <td>1.593000</td>\n",
       "      <td>...</td>\n",
       "      <td>0.0</td>\n",
       "      <td>0.046000</td>\n",
       "      <td>0.000000</td>\n",
       "      <td>0.0</td>\n",
       "      <td>5.642000</td>\n",
       "      <td>23.009000</td>\n",
       "      <td>0.000000</td>\n",
       "      <td>6.177000</td>\n",
       "      <td>1.067000</td>\n",
       "      <td>0.000000</td>\n",
       "    </tr>\n",
       "    <tr>\n",
       "      <th>75%</th>\n",
       "      <td>0.163000</td>\n",
       "      <td>20.292000</td>\n",
       "      <td>0.506000</td>\n",
       "      <td>0.00000</td>\n",
       "      <td>1.175000</td>\n",
       "      <td>0.534000</td>\n",
       "      <td>0.0</td>\n",
       "      <td>32.172000</td>\n",
       "      <td>6.822000</td>\n",
       "      <td>2.001000</td>\n",
       "      <td>...</td>\n",
       "      <td>0.0</td>\n",
       "      <td>0.104000</td>\n",
       "      <td>0.000000</td>\n",
       "      <td>0.0</td>\n",
       "      <td>6.233000</td>\n",
       "      <td>29.242000</td>\n",
       "      <td>0.000000</td>\n",
       "      <td>8.148000</td>\n",
       "      <td>1.413000</td>\n",
       "      <td>0.000000</td>\n",
       "    </tr>\n",
       "    <tr>\n",
       "      <th>max</th>\n",
       "      <td>0.389000</td>\n",
       "      <td>29.769000</td>\n",
       "      <td>1.014000</td>\n",
       "      <td>0.09700</td>\n",
       "      <td>1.973000</td>\n",
       "      <td>3.964000</td>\n",
       "      <td>0.0</td>\n",
       "      <td>45.641000</td>\n",
       "      <td>10.299000</td>\n",
       "      <td>4.561000</td>\n",
       "      <td>...</td>\n",
       "      <td>0.0</td>\n",
       "      <td>1.657000</td>\n",
       "      <td>0.089000</td>\n",
       "      <td>0.0</td>\n",
       "      <td>8.883000</td>\n",
       "      <td>50.808000</td>\n",
       "      <td>0.091000</td>\n",
       "      <td>16.739000</td>\n",
       "      <td>2.793000</td>\n",
       "      <td>0.112000</td>\n",
       "    </tr>\n",
       "  </tbody>\n",
       "</table>\n",
       "<p>8 rows × 27142 columns</p>\n",
       "</div>"
      ],
      "text/plain": [
       "        NM_173803   NM_014423  NM_001103167  NR_134623   NR_024490  \\\n",
       "count  133.000000  133.000000    133.000000  133.00000  133.000000   \n",
       "mean     0.124474   18.345647      0.414218    0.00197    1.006414   \n",
       "std      0.078508    3.426647      0.171433    0.01309    0.316317   \n",
       "min      0.000000    9.253000      0.042000    0.00000    0.505000   \n",
       "25%      0.069000   16.064000      0.297000    0.00000    0.777000   \n",
       "50%      0.108000   17.884000      0.400000    0.00000    0.946000   \n",
       "75%      0.163000   20.292000      0.506000    0.00000    1.175000   \n",
       "max      0.389000   29.769000      1.014000    0.09700    1.973000   \n",
       "\n",
       "        NM_018397  NM_001037671   NR_106859   NM_133458  NM_001080424  ...  \\\n",
       "count  133.000000         133.0  133.000000  133.000000    133.000000  ...   \n",
       "mean     0.547263           0.0   27.668767    6.133226      1.655526  ...   \n",
       "std      0.808279           0.0    7.176748    1.397833      0.531323  ...   \n",
       "min      0.014000           0.0    9.928000    3.503000      0.518000  ...   \n",
       "25%      0.106000           0.0   22.684000    5.052000      1.343000  ...   \n",
       "50%      0.218000           0.0   27.585000    5.961000      1.593000  ...   \n",
       "75%      0.534000           0.0   32.172000    6.822000      2.001000  ...   \n",
       "max      3.964000           0.0   45.641000   10.299000      4.561000  ...   \n",
       "\n",
       "       NR_029666   NM_080390  NM_001177675  NR_125786  NM_001291993  \\\n",
       "count      133.0  133.000000    133.000000      133.0    133.000000   \n",
       "mean         0.0    0.098594      0.003947        0.0      5.590233   \n",
       "std          0.0    0.209719      0.012712        0.0      1.114522   \n",
       "min          0.0    0.000000      0.000000        0.0      3.285000   \n",
       "25%          0.0    0.000000      0.000000        0.0      4.823000   \n",
       "50%          0.0    0.046000      0.000000        0.0      5.642000   \n",
       "75%          0.0    0.104000      0.000000        0.0      6.233000   \n",
       "max          0.0    1.657000      0.089000        0.0      8.883000   \n",
       "\n",
       "        NM_021923   NM_017417   NM_004354   NR_024278   NM_145282  \n",
       "count  133.000000  133.000000  133.000000  133.000000  133.000000  \n",
       "mean    23.029218    0.005812    6.852872    1.189158    0.002639  \n",
       "std     10.267254    0.013509    2.821790    0.450767    0.013269  \n",
       "min      2.703000    0.000000    1.505000    0.392000    0.000000  \n",
       "25%     15.905000    0.000000    5.019000    0.918000    0.000000  \n",
       "50%     23.009000    0.000000    6.177000    1.067000    0.000000  \n",
       "75%     29.242000    0.000000    8.148000    1.413000    0.000000  \n",
       "max     50.808000    0.091000   16.739000    2.793000    0.112000  \n",
       "\n",
       "[8 rows x 27142 columns]"
      ]
     },
     "execution_count": 4,
     "metadata": {},
     "output_type": "execute_result"
    }
   ],
   "source": [
    "data.describe()"
   ]
  },
  {
   "cell_type": "code",
   "execution_count": 3,
   "metadata": {},
   "outputs": [
    {
     "data": {
      "text/plain": [
       "27142"
      ]
     },
     "execution_count": 3,
     "metadata": {},
     "output_type": "execute_result"
    }
   ],
   "source": [
    "len(data.columns)"
   ]
  },
  {
   "attachments": {},
   "cell_type": "markdown",
   "metadata": {},
   "source": [
    "## Removal of useless features"
   ]
  },
  {
   "cell_type": "code",
   "execution_count": 4,
   "metadata": {},
   "outputs": [],
   "source": [
    "const_cols = data.columns[data.std() == 0.0]"
   ]
  },
  {
   "cell_type": "code",
   "execution_count": 5,
   "metadata": {},
   "outputs": [],
   "source": [
    "data_non_zero_var = data.drop(columns=const_cols, inplace=False)"
   ]
  },
  {
   "cell_type": "code",
   "execution_count": 30,
   "metadata": {},
   "outputs": [
    {
     "data": {
      "text/plain": [
       "27142"
      ]
     },
     "execution_count": 30,
     "metadata": {},
     "output_type": "execute_result"
    }
   ],
   "source": [
    "len(data.mean().values)"
   ]
  },
  {
   "attachments": {},
   "cell_type": "markdown",
   "metadata": {},
   "source": [
    "## Setting a variance threshold "
   ]
  },
  {
   "cell_type": "code",
   "execution_count": 21,
   "metadata": {},
   "outputs": [],
   "source": [
    "from sklearn.feature_selection import VarianceThreshold\n",
    "\n",
    "var_thresh = VarianceThreshold(0.01)\n",
    "data_signif_var = var_thresh.fit_transform(data)"
   ]
  },
  {
   "cell_type": "code",
   "execution_count": 22,
   "metadata": {},
   "outputs": [
    {
     "data": {
      "text/plain": [
       "(133, 15849)"
      ]
     },
     "execution_count": 22,
     "metadata": {},
     "output_type": "execute_result"
    }
   ],
   "source": [
    "data_signif_var.shape"
   ]
  },
  {
   "cell_type": "code",
   "execution_count": 24,
   "metadata": {},
   "outputs": [
    {
     "data": {
      "text/plain": [
       "array(['NM_014423', 'NM_001103167', 'NR_024490', ..., 'NM_021923',\n",
       "       'NM_004354', 'NR_024278'], dtype=object)"
      ]
     },
     "execution_count": 24,
     "metadata": {},
     "output_type": "execute_result"
    }
   ],
   "source": [
    "cols_signif_var = var_thresh.get_feature_names_out(data.columns)\n",
    "cols_signif_var"
   ]
  },
  {
   "attachments": {},
   "cell_type": "markdown",
   "metadata": {},
   "source": [
    "## Using sklearn's feature selection"
   ]
  },
  {
   "attachments": {},
   "cell_type": "markdown",
   "metadata": {},
   "source": [
    "This will be more important during the next phase of work, where we (will) train models. These features can then be used to verify if the selection is indeed fruitful for the task at hand. "
   ]
  },
  {
   "cell_type": "code",
   "execution_count": 55,
   "metadata": {},
   "outputs": [
    {
     "data": {
      "text/plain": [
       "array(['NM_147150', 'NM_005439', 'NR_033339', 'NM_139178', 'NR_028028',\n",
       "       'NM_001310', 'NM_015713', 'NM_001101801', 'NM_012106', 'NM_002028',\n",
       "       'NM_001146032', 'NR_037425', 'NM_019600', 'NM_002035', 'NM_005659',\n",
       "       'NM_017789', 'NM_002952', 'NM_173647', 'NM_001278728', 'NM_006755',\n",
       "       'NM_183352', 'NM_001102575', 'NM_001202559', 'NM_001284368',\n",
       "       'NM_015055', 'NM_004547', 'NM_002311', 'NM_001199933',\n",
       "       'NM_001317743', 'NM_016404', 'NM_006351', 'NM_003941',\n",
       "       'NM_001134231', 'NM_138554', 'NM_014372', 'NM_175617', 'NM_016217',\n",
       "       'NM_001136562', 'NM_001199662', 'NM_001300899', 'NM_014595',\n",
       "       'NM_004911', 'NM_001145337', 'NM_015188', 'NM_006858', 'NM_001023',\n",
       "       'NM_022470', 'NM_001287222', 'NM_030571', 'NM_000852'],\n",
       "      dtype=object)"
      ]
     },
     "execution_count": 55,
     "metadata": {},
     "output_type": "execute_result"
    }
   ],
   "source": [
    "from sklearn.feature_selection import SelectKBest, f_regression, mutual_info_regression\n",
    "\n",
    "feature_selector = SelectKBest(score_func=f_regression, k=50)\n",
    "data_condensed = feature_selector.fit_transform(data_non_zero_var, labels)\n",
    "feature_selector.get_feature_names_out(data_non_zero_var.columns)"
   ]
  },
  {
   "cell_type": "code",
   "execution_count": 56,
   "metadata": {},
   "outputs": [
    {
     "data": {
      "text/plain": [
       "array(['NM_147150', 'NR_126526', 'NM_001310', 'NM_012106', 'NM_006848',\n",
       "       'NM_198793', 'NM_018368', 'NM_001267548', 'NM_001321636',\n",
       "       'NM_019600', 'NM_021076', 'NM_001134396', 'NR_030366',\n",
       "       'NM_001278728', 'NM_006755', 'NM_001286581', 'NR_037661',\n",
       "       'NM_001201479', 'NM_015229', 'NM_001288778', 'NM_030665',\n",
       "       'NM_033285', 'NM_021228', 'NM_001136200', 'NM_014551',\n",
       "       'NM_001278163', 'NM_013995', 'NM_001136562', 'NM_001300899',\n",
       "       'NM_144564', 'NM_001007189', 'NM_005632', 'NM_014595',\n",
       "       'NM_001293234', 'NM_145030', 'NM_012249', 'NM_014205',\n",
       "       'NM_001142575', 'NM_014713', 'NM_001153', 'NM_002167',\n",
       "       'NM_001017923', 'NM_004421', 'NM_012234', 'NM_015649', 'NM_022470',\n",
       "       'NM_016255', 'NM_006114', 'NM_130787', 'NM_000852'], dtype=object)"
      ]
     },
     "execution_count": 56,
     "metadata": {},
     "output_type": "execute_result"
    }
   ],
   "source": [
    "feature_selector = SelectKBest(score_func=mutual_info_regression, k=50)\n",
    "data_condensed = feature_selector.fit_transform(data_non_zero_var, labels)\n",
    "feature_selector.get_feature_names_out(data_non_zero_var.columns)"
   ]
  }
 ],
 "metadata": {
  "kernelspec": {
   "display_name": "Python 3",
   "language": "python",
   "name": "python3"
  },
  "language_info": {
   "codemirror_mode": {
    "name": "ipython",
    "version": 3
   },
   "file_extension": ".py",
   "mimetype": "text/x-python",
   "name": "python",
   "nbconvert_exporter": "python",
   "pygments_lexer": "ipython3",
   "version": "3.10.6"
  },
  "orig_nbformat": 4
 },
 "nbformat": 4,
 "nbformat_minor": 2
}
